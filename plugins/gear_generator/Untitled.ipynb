{
 "cells": [
  {
   "cell_type": "code",
   "execution_count": 2,
   "id": "ruled-matthew",
   "metadata": {},
   "outputs": [],
   "source": [
    "import cadquery as cq\n",
    "from jupyter_cadquery.cadquery import show\n",
    "from jupyter_cadquery import set_sidecar\n",
    "set_sidecar(\"cq\")"
   ]
  },
  {
   "cell_type": "code",
   "execution_count": 5,
   "id": "muslim-infrared",
   "metadata": {},
   "outputs": [],
   "source": [
    "import gear_generator"
   ]
  },
  {
   "cell_type": "code",
   "execution_count": 13,
   "id": "terminal-introduction",
   "metadata": {},
   "outputs": [
    {
     "name": "stdout",
     "output_type": "stream",
     "text": [
      "Done, using side car 'cq'\n"
     ]
    },
    {
     "data": {
      "text/plain": [
       "<jupyter_cadquery.cad_display.CadqueryDisplay at 0x23e3f72c850>"
      ]
     },
     "execution_count": 13,
     "metadata": {},
     "output_type": "execute_result"
    }
   ],
   "source": [
    "    m = 1.5\n",
    "    z = 16\n",
    "    b = 6\n",
    "    delta = 40\n",
    "    alpha = 20\n",
    "    clearance = 6\n",
    "    gear = cq.Workplane().make_bevel_gear(m, z, b, delta, alpha = alpha, clearance = clearance)\n",
    "    show(gear)"
   ]
  },
  {
   "cell_type": "code",
   "execution_count": null,
   "id": "radical-signature",
   "metadata": {},
   "outputs": [],
   "source": []
  }
 ],
 "metadata": {
  "kernelspec": {
   "display_name": "Python 3",
   "language": "python",
   "name": "python3"
  },
  "language_info": {
   "codemirror_mode": {
    "name": "ipython",
    "version": 3
   },
   "file_extension": ".py",
   "mimetype": "text/x-python",
   "name": "python",
   "nbconvert_exporter": "python",
   "pygments_lexer": "ipython3",
   "version": "3.8.8"
  }
 },
 "nbformat": 4,
 "nbformat_minor": 5
}
